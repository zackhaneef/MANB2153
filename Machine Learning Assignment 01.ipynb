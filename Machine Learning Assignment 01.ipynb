{
 "cells": [
  {
   "cell_type": "code",
   "execution_count": null,
   "metadata": {},
   "outputs": [],
   "source": [
    "Definition of Machine Learning(3)\n"
   ]
  },
  {
   "cell_type": "code",
   "execution_count": null,
   "metadata": {},
   "outputs": [],
   "source": [
    "Source: Lecture 1.2 - Introduction to Machine Learning"
   ]
  },
  {
   "cell_type": "code",
   "execution_count": null,
   "metadata": {},
   "outputs": [],
   "source": [
    "\n",
    "1. Machine Learning can be defined as process of enabling computers to be trained in performing certain tasks. It simply contrasts with the normal method of instructing computers through explicit programming. "
   ]
  },
  {
   "cell_type": "code",
   "execution_count": null,
   "metadata": {},
   "outputs": [],
   "source": [
    "Source: Techopedia.com"
   ]
  },
  {
   "cell_type": "code",
   "execution_count": null,
   "metadata": {},
   "outputs": [],
   "source": [
    "Machine Learning is defined by Techopedia.com as a discipline of artificial intelligence which is geared towards the technological development of human knowledge.  It adds that by using machine learning, it allows and equips computers to handle new situation via analysis, self-training, observation and experience."
   ]
  },
  {
   "cell_type": "code",
   "execution_count": null,
   "metadata": {},
   "outputs": [],
   "source": [
    "Source: ExpertSystem.com"
   ]
  },
  {
   "cell_type": "code",
   "execution_count": null,
   "metadata": {},
   "outputs": [],
   "source": [
    "ExpertSystem.com defines machine learning is an application of artificial intelligence (AI) that provides systems the ability to automatically learn and improve from experience without being explicitly programmed. It also defines the machine learning as a discipline that focuses on the development of computer programs that can access data and use it learn for themselves"
   ]
  },
  {
   "cell_type": "code",
   "execution_count": null,
   "metadata": {},
   "outputs": [],
   "source": [
    "Source: Hands-on Machine Learning with Scikit-Learn and TensorFlow, Aurélien Géron. O'Reilly"
   ]
  },
  {
   "cell_type": "code",
   "execution_count": null,
   "metadata": {},
   "outputs": [],
   "source": [
    "Machine learning is the science (and art) of programming computers so they can learn from data."
   ]
  },
  {
   "cell_type": "code",
   "execution_count": null,
   "metadata": {},
   "outputs": [],
   "source": [
    "Example of 5 Machine Learning Application"
   ]
  },
  {
   "cell_type": "code",
   "execution_count": null,
   "metadata": {},
   "outputs": [],
   "source": [
    "Fraud Detection\n"
   ]
  },
  {
   "cell_type": "code",
   "execution_count": null,
   "metadata": {},
   "outputs": [],
   "source": [
    "Machine Learning is used in the financial industries to detect elements of fraud. One such example is the application of machine learning technology by PayPal. It is used to combat criminal act such as money laundering. The machine learning tools will enable it to spot and distinguish through millions of records which is indeed a legitimate or a fraudulent transaction between the buyers and sellers.\n"
   ]
  },
  {
   "cell_type": "code",
   "execution_count": null,
   "metadata": {},
   "outputs": [],
   "source": [
    "Smart Cars and Autonomous Driving\n",
    "\n"
   ]
  },
  {
   "cell_type": "code",
   "execution_count": null,
   "metadata": {},
   "outputs": [],
   "source": [
    "It is expected by the first half of the next decade, cars will have the capabilities of autonomous driving. Though, it is still very much in the initial period, its potential is enormous and indeed real.  Besides being able to integrate well with the Internet of Things(IOT), it will be able to learn not only about the owner’s preferences and habit but also the environments he lives in. This includes elements such as the routes travelled, the bumpiness of the road, traffics and whether. Among the company that had spearheaded the initiatives is companies such as Tesla."
   ]
  },
  {
   "cell_type": "code",
   "execution_count": null,
   "metadata": {},
   "outputs": [],
   "source": [
    "Prediction While Commuting\n",
    "\n"
   ]
  },
  {
   "cell_type": "code",
   "execution_count": null,
   "metadata": {},
   "outputs": [],
   "source": [
    "When we got into a e-hailing rides, one that comes into to our mind is what is our expected time of arrival(ETA).  In less than a second, you will be given the estimation time. This is done by using the GPS facilities that it is equipped with and using machine learning tool that does traffic and congestion analysis. Among the company that uses it is Grab, Uber, MyCar and other car hailing services. Besides that, the price and the commuting charge is also done using algorithm that investigates into factors such as the demand, traffic and peak hours."
   ]
  },
  {
   "cell_type": "code",
   "execution_count": null,
   "metadata": {},
   "outputs": [],
   "source": [
    "Video surveillance\n",
    "\n"
   ]
  },
  {
   "cell_type": "code",
   "execution_count": null,
   "metadata": {},
   "outputs": [],
   "source": [
    "Imagine yourself monitoring multiple video surveillance camera. It not only requires you to be alert but also the need to observe unusual and weird patterns of human behaviours.  With the use of machine learning, further enhanced by artificial intelligence, the video surveillance system will be able to track suspicious act or characters. One such example will be like standing motionless or napping on the bench. "
   ]
  },
  {
   "cell_type": "code",
   "execution_count": null,
   "metadata": {},
   "outputs": [],
   "source": [
    "Retail Industry\n",
    "\n"
   ]
  },
  {
   "cell_type": "code",
   "execution_count": null,
   "metadata": {},
   "outputs": [],
   "source": [
    "The retail industry is one of the earliest industry sectors to embrace and utilise machine learning technologies. Among the algorithms used is the ability to discover similarities and differences in the customers preferences and purchasing patterns. This in turn is used to expedite and simplify segmentation, thus enabling the retail entity to enhance its targeting. This is done by using machine learning powered technologies that captures, analyse and use the data to personalize the shopping experience in real time.  With the exponential growth of e-commerce’s, this technology has also been embraced and used by online retailers. Among the players that uses machine learning technologies are players such as Amazon, Lazada , Walmart and Tesco."
   ]
  },
  {
   "cell_type": "code",
   "execution_count": null,
   "metadata": {},
   "outputs": [],
   "source": [
    "References\n"
   ]
  },
  {
   "cell_type": "code",
   "execution_count": null,
   "metadata": {},
   "outputs": [],
   "source": [
    "https://www.forbes.com/sites/bernardmarr/2016/09/30/what-are-the-top-10-use-cases-for-machine-learning-and-ai/#22414baa94c9\n",
    "https://medium.com/app-affairs/9-applications-of-machine-learning-from-day-to-day-life-112a47a429d0\n",
    "https://blog.nhlearningsolutions.com/blog/7-industries-leveraging-machine-learning\n",
    "Hands-on Machine Learning with Scikit-Learn and TensorFlow, Aurélien Géron OReilly\n",
    "Machine Learning for Dummies, John Paul Mueller and Luca Massaro. Wiley \n"
   ]
  }
 ],
 "metadata": {
  "kernelspec": {
   "display_name": "Python 3",
   "language": "python",
   "name": "python3"
  },
  "language_info": {
   "codemirror_mode": {
    "name": "ipython",
    "version": 3
   },
   "file_extension": ".py",
   "mimetype": "text/x-python",
   "name": "python",
   "nbconvert_exporter": "python",
   "pygments_lexer": "ipython3",
   "version": "3.7.0"
  }
 },
 "nbformat": 4,
 "nbformat_minor": 2
}
