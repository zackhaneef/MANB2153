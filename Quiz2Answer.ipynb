{
  "nbformat": 4,
  "nbformat_minor": 0,
  "metadata": {
    "colab": {
      "name": "Quiz2Answer.ipynb",
      "version": "0.3.2",
      "provenance": [],
      "collapsed_sections": [],
      "include_colab_link": true
    },
    "kernelspec": {
      "name": "python3",
      "display_name": "Python 3"
    }
  },
  "cells": [
    {
      "cell_type": "markdown",
      "metadata": {
        "id": "view-in-github",
        "colab_type": "text"
      },
      "source": [
        "<a href=\"https://colab.research.google.com/github/zackhaneef/MANB2153/blob/master/Quiz2Answer.ipynb\" target=\"_parent\"><img src=\"https://colab.research.google.com/assets/colab-badge.svg\" alt=\"Open In Colab\"/></a>"
      ]
    },
    {
      "metadata": {
        "id": "WZjgvc4yyKfp",
        "colab_type": "code",
        "colab": {}
      },
      "cell_type": "code",
      "source": [
        "Quiz 2 MANB 2153 \n",
        " \n",
        "Name: \n",
        "Matric Number: MAN 181032\n",
        " \n",
        "Name:  Mohamed Zackeriya\n",
        " \n",
        "Questions/Instructions.  \n",
        "Answer all questions in a Jupyter Notebook (colab). Push your notebook to your github under Quiz2-Yourfirstname. \n",
        " \n",
        "1.\tUsing the problem and data at https://www.kaggle.com/ronitf/heart-disease-uci, download the data (3KB) \n",
        " \n",
        "2.\tWhat type of problem are we trying to solve here? Classification or regression?\n",
        "\n",
        "We are trying to solve refression type of problem.\n",
        "\n",
        "3.\tYou have decided you want to create a neural network model to perform the classification/regression for that problem.  \n",
        "a.\tUse train_test_split function to split the data into training 70%, test 30% \n",
        "b.\tDesign a neural network model with any architecture. Try to be unique here. \n",
        "c.\tUse Keras codes to create the model  \n",
        "d.\tCompile and fit the model \n",
        "e.\tWhat is the accuracy after 20 epochs? \n",
        " \n",
        " \n",
        "4.\tWhat is underfitting and overfitting?  \n",
        "Underfitting is working with less data, while overfitting is oversized of data\n",
        " \n",
        "5.\tExplain how you can reduce the overfitting of the model. \n",
        "\n",
        "By using the train_test_split function\n",
        " \n"
      ],
      "execution_count": 0,
      "outputs": []
    },
    {
      "metadata": {
        "id": "sePrhgEayQP7",
        "colab_type": "text"
      },
      "cell_type": "markdown",
      "source": [
        ""
      ]
    }
  ]
}